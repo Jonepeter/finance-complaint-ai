{
 "cells": [
  {
   "cell_type": "markdown",
   "metadata": {},
   "source": [
    "# **Task 1: Exploratory Data Analysis and Data Preprocessing**\n",
    "## CrediTrust Financial - Complaint Analysis System\n",
    "\n",
    "This notebook performs comprehensive EDA on CFPB complaint data and preprocesses it for the RAG pipeline."
   ]
  },
  {
   "cell_type": "code",
   "execution_count": 9,
   "metadata": {},
   "outputs": [],
   "source": [
    "import sidetable as stb\n",
    "import pandas as pd\n",
    "import numpy as np\n",
    "import matplotlib.pyplot as plt\n",
    "import seaborn as sns\n",
    "import plotly.express as px\n",
    "import plotly.graph_objects as go\n",
    "from plotly.subplots import make_subplots\n",
    "import re\n",
    "from pathlib import Path\n",
    "import warnings\n",
    "warnings.filterwarnings('ignore')\n",
    "\n",
    "# Set style\n",
    "plt.style.use('seaborn-v0_8')\n",
    "sns.set_palette(\"husl\")\n",
    "pd.set_option('display.float_format', lambda x: '%.0f' % x)\n"
   ]
  },
  {
   "cell_type": "code",
   "execution_count": 10,
   "metadata": {},
   "outputs": [
    {
     "name": "stdout",
     "output_type": "stream",
     "text": [
      "Loaded raw dataset with 9609797 records\n",
      "Dataset shape: (9609797, 18)\n",
      "\n",
      "Columns: ['Date received', 'Product', 'Sub-product', 'Issue', 'Sub-issue', 'Consumer complaint narrative', 'Company public response', 'Company', 'State', 'ZIP code', 'Tags', 'Consumer consent provided?', 'Submitted via', 'Date sent to company', 'Company response to consumer', 'Timely response?', 'Consumer disputed?', 'Complaint ID']\n"
     ]
    }
   ],
   "source": [
    "# Load the dataset\n",
    "data_path = Path(\"../data/raw/filtered_data.parquet\")\n",
    "if data_path.exists():\n",
    "    df = pd.read_parquet(data_path)\n",
    "    print(f\"Loaded filtered dataset with {len(df)} records\")\n",
    "else:\n",
    "    # Load from CSV if parquet doesn't exist\n",
    "    df = pd.read_csv(\"../../data/raw/complaints.csv\")\n",
    "    print(f\"Loaded raw dataset with {len(df)} records\")\n",
    "\n",
    "print(f\"Dataset shape: {df.shape}\")\n",
    "print(f\"\\nColumns: {list(df.columns)}\")"
   ]
  },
  {
   "cell_type": "code",
   "execution_count": 11,
   "metadata": {},
   "outputs": [
    {
     "data": {
      "text/html": [
       "<div>\n",
       "<style scoped>\n",
       "    .dataframe tbody tr th:only-of-type {\n",
       "        vertical-align: middle;\n",
       "    }\n",
       "\n",
       "    .dataframe tbody tr th {\n",
       "        vertical-align: top;\n",
       "    }\n",
       "\n",
       "    .dataframe thead th {\n",
       "        text-align: right;\n",
       "    }\n",
       "</style>\n",
       "<table border=\"1\" class=\"dataframe\">\n",
       "  <thead>\n",
       "    <tr style=\"text-align: right;\">\n",
       "      <th></th>\n",
       "      <th>Date received</th>\n",
       "      <th>Product</th>\n",
       "      <th>Sub-product</th>\n",
       "      <th>Issue</th>\n",
       "      <th>Sub-issue</th>\n",
       "      <th>Consumer complaint narrative</th>\n",
       "      <th>Company public response</th>\n",
       "      <th>Company</th>\n",
       "      <th>State</th>\n",
       "      <th>ZIP code</th>\n",
       "      <th>Tags</th>\n",
       "      <th>Consumer consent provided?</th>\n",
       "      <th>Submitted via</th>\n",
       "      <th>Date sent to company</th>\n",
       "      <th>Company response to consumer</th>\n",
       "      <th>Timely response?</th>\n",
       "      <th>Consumer disputed?</th>\n",
       "      <th>Complaint ID</th>\n",
       "    </tr>\n",
       "  </thead>\n",
       "  <tbody>\n",
       "    <tr>\n",
       "      <th>0</th>\n",
       "      <td>2025-06-20</td>\n",
       "      <td>Credit reporting or other personal consumer re...</td>\n",
       "      <td>Credit reporting</td>\n",
       "      <td>Incorrect information on your report</td>\n",
       "      <td>Information belongs to someone else</td>\n",
       "      <td>NaN</td>\n",
       "      <td>NaN</td>\n",
       "      <td>Experian Information Solutions Inc.</td>\n",
       "      <td>FL</td>\n",
       "      <td>32092</td>\n",
       "      <td>NaN</td>\n",
       "      <td>NaN</td>\n",
       "      <td>Web</td>\n",
       "      <td>2025-06-20</td>\n",
       "      <td>In progress</td>\n",
       "      <td>Yes</td>\n",
       "      <td>NaN</td>\n",
       "      <td>14195687</td>\n",
       "    </tr>\n",
       "    <tr>\n",
       "      <th>1</th>\n",
       "      <td>2025-06-20</td>\n",
       "      <td>Debt collection</td>\n",
       "      <td>Telecommunications debt</td>\n",
       "      <td>Attempts to collect debt not owed</td>\n",
       "      <td>Debt is not yours</td>\n",
       "      <td>NaN</td>\n",
       "      <td>Company can't verify or dispute the facts in t...</td>\n",
       "      <td>Eastern Account Systems of Connecticut, Inc.</td>\n",
       "      <td>FL</td>\n",
       "      <td>342XX</td>\n",
       "      <td>NaN</td>\n",
       "      <td>NaN</td>\n",
       "      <td>Web</td>\n",
       "      <td>2025-06-20</td>\n",
       "      <td>Closed with explanation</td>\n",
       "      <td>Yes</td>\n",
       "      <td>NaN</td>\n",
       "      <td>14195688</td>\n",
       "    </tr>\n",
       "    <tr>\n",
       "      <th>2</th>\n",
       "      <td>2025-06-20</td>\n",
       "      <td>Credit reporting or other personal consumer re...</td>\n",
       "      <td>Credit reporting</td>\n",
       "      <td>Improper use of your report</td>\n",
       "      <td>Reporting company used your report improperly</td>\n",
       "      <td>NaN</td>\n",
       "      <td>NaN</td>\n",
       "      <td>TRANSUNION INTERMEDIATE HOLDINGS, INC.</td>\n",
       "      <td>AZ</td>\n",
       "      <td>85225</td>\n",
       "      <td>NaN</td>\n",
       "      <td>NaN</td>\n",
       "      <td>Web</td>\n",
       "      <td>2025-06-20</td>\n",
       "      <td>In progress</td>\n",
       "      <td>Yes</td>\n",
       "      <td>NaN</td>\n",
       "      <td>14195689</td>\n",
       "    </tr>\n",
       "    <tr>\n",
       "      <th>3</th>\n",
       "      <td>2025-06-20</td>\n",
       "      <td>Credit reporting or other personal consumer re...</td>\n",
       "      <td>Credit reporting</td>\n",
       "      <td>Improper use of your report</td>\n",
       "      <td>Reporting company used your report improperly</td>\n",
       "      <td>NaN</td>\n",
       "      <td>NaN</td>\n",
       "      <td>Experian Information Solutions Inc.</td>\n",
       "      <td>AZ</td>\n",
       "      <td>85225</td>\n",
       "      <td>NaN</td>\n",
       "      <td>NaN</td>\n",
       "      <td>Web</td>\n",
       "      <td>2025-06-20</td>\n",
       "      <td>In progress</td>\n",
       "      <td>Yes</td>\n",
       "      <td>NaN</td>\n",
       "      <td>14195690</td>\n",
       "    </tr>\n",
       "    <tr>\n",
       "      <th>4</th>\n",
       "      <td>2025-06-20</td>\n",
       "      <td>Credit reporting or other personal consumer re...</td>\n",
       "      <td>Credit reporting</td>\n",
       "      <td>Incorrect information on your report</td>\n",
       "      <td>Account status incorrect</td>\n",
       "      <td>NaN</td>\n",
       "      <td>NaN</td>\n",
       "      <td>Experian Information Solutions Inc.</td>\n",
       "      <td>IL</td>\n",
       "      <td>60628</td>\n",
       "      <td>NaN</td>\n",
       "      <td>NaN</td>\n",
       "      <td>Web</td>\n",
       "      <td>2025-06-20</td>\n",
       "      <td>In progress</td>\n",
       "      <td>Yes</td>\n",
       "      <td>NaN</td>\n",
       "      <td>14195692</td>\n",
       "    </tr>\n",
       "    <tr>\n",
       "      <th>...</th>\n",
       "      <td>...</td>\n",
       "      <td>...</td>\n",
       "      <td>...</td>\n",
       "      <td>...</td>\n",
       "      <td>...</td>\n",
       "      <td>...</td>\n",
       "      <td>...</td>\n",
       "      <td>...</td>\n",
       "      <td>...</td>\n",
       "      <td>...</td>\n",
       "      <td>...</td>\n",
       "      <td>...</td>\n",
       "      <td>...</td>\n",
       "      <td>...</td>\n",
       "      <td>...</td>\n",
       "      <td>...</td>\n",
       "      <td>...</td>\n",
       "      <td>...</td>\n",
       "    </tr>\n",
       "    <tr>\n",
       "      <th>9609792</th>\n",
       "      <td>2016-09-08</td>\n",
       "      <td>Credit reporting</td>\n",
       "      <td>NaN</td>\n",
       "      <td>Unable to get credit report/credit score</td>\n",
       "      <td>Problem getting my free annual report</td>\n",
       "      <td>NaN</td>\n",
       "      <td>NaN</td>\n",
       "      <td>EQUIFAX, INC.</td>\n",
       "      <td>FL</td>\n",
       "      <td>32853</td>\n",
       "      <td>NaN</td>\n",
       "      <td>Consent not provided</td>\n",
       "      <td>Web</td>\n",
       "      <td>2016-09-08</td>\n",
       "      <td>Closed with explanation</td>\n",
       "      <td>Yes</td>\n",
       "      <td>Yes</td>\n",
       "      <td>2102374</td>\n",
       "    </tr>\n",
       "    <tr>\n",
       "      <th>9609793</th>\n",
       "      <td>2022-06-06</td>\n",
       "      <td>Credit reporting, credit repair services, or o...</td>\n",
       "      <td>Credit reporting</td>\n",
       "      <td>Problem with a credit reporting company's inve...</td>\n",
       "      <td>Their investigation did not fix an error on yo...</td>\n",
       "      <td>NaN</td>\n",
       "      <td>NaN</td>\n",
       "      <td>EQUIFAX, INC.</td>\n",
       "      <td>CA</td>\n",
       "      <td>93638</td>\n",
       "      <td>NaN</td>\n",
       "      <td>Consent not provided</td>\n",
       "      <td>Web</td>\n",
       "      <td>2022-06-06</td>\n",
       "      <td>Closed with explanation</td>\n",
       "      <td>Yes</td>\n",
       "      <td>NaN</td>\n",
       "      <td>5637858</td>\n",
       "    </tr>\n",
       "    <tr>\n",
       "      <th>9609794</th>\n",
       "      <td>2016-07-14</td>\n",
       "      <td>Credit reporting</td>\n",
       "      <td>NaN</td>\n",
       "      <td>Unable to get credit report/credit score</td>\n",
       "      <td>Problem getting report or credit score</td>\n",
       "      <td>NaN</td>\n",
       "      <td>NaN</td>\n",
       "      <td>EQUIFAX, INC.</td>\n",
       "      <td>NJ</td>\n",
       "      <td>08620</td>\n",
       "      <td>Older American, Servicemember</td>\n",
       "      <td>NaN</td>\n",
       "      <td>Phone</td>\n",
       "      <td>2016-07-14</td>\n",
       "      <td>Closed with explanation</td>\n",
       "      <td>Yes</td>\n",
       "      <td>No</td>\n",
       "      <td>2012835</td>\n",
       "    </tr>\n",
       "    <tr>\n",
       "      <th>9609795</th>\n",
       "      <td>2014-03-03</td>\n",
       "      <td>Credit reporting</td>\n",
       "      <td>NaN</td>\n",
       "      <td>Improper use of my credit report</td>\n",
       "      <td>Report improperly shared by CRC</td>\n",
       "      <td>NaN</td>\n",
       "      <td>NaN</td>\n",
       "      <td>EQUIFAX, INC.</td>\n",
       "      <td>NJ</td>\n",
       "      <td>08759</td>\n",
       "      <td>NaN</td>\n",
       "      <td>NaN</td>\n",
       "      <td>Web</td>\n",
       "      <td>2014-03-04</td>\n",
       "      <td>Closed with explanation</td>\n",
       "      <td>Yes</td>\n",
       "      <td>No</td>\n",
       "      <td>740118</td>\n",
       "    </tr>\n",
       "    <tr>\n",
       "      <th>9609796</th>\n",
       "      <td>2014-11-10</td>\n",
       "      <td>Credit reporting</td>\n",
       "      <td>NaN</td>\n",
       "      <td>Incorrect information on credit report</td>\n",
       "      <td>Account status</td>\n",
       "      <td>NaN</td>\n",
       "      <td>NaN</td>\n",
       "      <td>EQUIFAX, INC.</td>\n",
       "      <td>CA</td>\n",
       "      <td>95616</td>\n",
       "      <td>NaN</td>\n",
       "      <td>NaN</td>\n",
       "      <td>Postal mail</td>\n",
       "      <td>2014-11-25</td>\n",
       "      <td>Closed with explanation</td>\n",
       "      <td>Yes</td>\n",
       "      <td>No</td>\n",
       "      <td>1110751</td>\n",
       "    </tr>\n",
       "  </tbody>\n",
       "</table>\n",
       "<p>9609797 rows × 18 columns</p>\n",
       "</div>"
      ],
      "text/plain": [
       "        Date received                                            Product  \\\n",
       "0          2025-06-20  Credit reporting or other personal consumer re...   \n",
       "1          2025-06-20                                    Debt collection   \n",
       "2          2025-06-20  Credit reporting or other personal consumer re...   \n",
       "3          2025-06-20  Credit reporting or other personal consumer re...   \n",
       "4          2025-06-20  Credit reporting or other personal consumer re...   \n",
       "...               ...                                                ...   \n",
       "9609792    2016-09-08                                   Credit reporting   \n",
       "9609793    2022-06-06  Credit reporting, credit repair services, or o...   \n",
       "9609794    2016-07-14                                   Credit reporting   \n",
       "9609795    2014-03-03                                   Credit reporting   \n",
       "9609796    2014-11-10                                   Credit reporting   \n",
       "\n",
       "                     Sub-product  \\\n",
       "0               Credit reporting   \n",
       "1        Telecommunications debt   \n",
       "2               Credit reporting   \n",
       "3               Credit reporting   \n",
       "4               Credit reporting   \n",
       "...                          ...   \n",
       "9609792                      NaN   \n",
       "9609793         Credit reporting   \n",
       "9609794                      NaN   \n",
       "9609795                      NaN   \n",
       "9609796                      NaN   \n",
       "\n",
       "                                                     Issue  \\\n",
       "0                     Incorrect information on your report   \n",
       "1                        Attempts to collect debt not owed   \n",
       "2                              Improper use of your report   \n",
       "3                              Improper use of your report   \n",
       "4                     Incorrect information on your report   \n",
       "...                                                    ...   \n",
       "9609792           Unable to get credit report/credit score   \n",
       "9609793  Problem with a credit reporting company's inve...   \n",
       "9609794           Unable to get credit report/credit score   \n",
       "9609795                   Improper use of my credit report   \n",
       "9609796             Incorrect information on credit report   \n",
       "\n",
       "                                                 Sub-issue  \\\n",
       "0                      Information belongs to someone else   \n",
       "1                                        Debt is not yours   \n",
       "2            Reporting company used your report improperly   \n",
       "3            Reporting company used your report improperly   \n",
       "4                                 Account status incorrect   \n",
       "...                                                    ...   \n",
       "9609792              Problem getting my free annual report   \n",
       "9609793  Their investigation did not fix an error on yo...   \n",
       "9609794             Problem getting report or credit score   \n",
       "9609795                    Report improperly shared by CRC   \n",
       "9609796                                     Account status   \n",
       "\n",
       "        Consumer complaint narrative  \\\n",
       "0                                NaN   \n",
       "1                                NaN   \n",
       "2                                NaN   \n",
       "3                                NaN   \n",
       "4                                NaN   \n",
       "...                              ...   \n",
       "9609792                          NaN   \n",
       "9609793                          NaN   \n",
       "9609794                          NaN   \n",
       "9609795                          NaN   \n",
       "9609796                          NaN   \n",
       "\n",
       "                                   Company public response  \\\n",
       "0                                                      NaN   \n",
       "1        Company can't verify or dispute the facts in t...   \n",
       "2                                                      NaN   \n",
       "3                                                      NaN   \n",
       "4                                                      NaN   \n",
       "...                                                    ...   \n",
       "9609792                                                NaN   \n",
       "9609793                                                NaN   \n",
       "9609794                                                NaN   \n",
       "9609795                                                NaN   \n",
       "9609796                                                NaN   \n",
       "\n",
       "                                              Company State ZIP code  \\\n",
       "0                 Experian Information Solutions Inc.    FL    32092   \n",
       "1        Eastern Account Systems of Connecticut, Inc.    FL    342XX   \n",
       "2              TRANSUNION INTERMEDIATE HOLDINGS, INC.    AZ    85225   \n",
       "3                 Experian Information Solutions Inc.    AZ    85225   \n",
       "4                 Experian Information Solutions Inc.    IL    60628   \n",
       "...                                               ...   ...      ...   \n",
       "9609792                                 EQUIFAX, INC.    FL    32853   \n",
       "9609793                                 EQUIFAX, INC.    CA    93638   \n",
       "9609794                                 EQUIFAX, INC.    NJ    08620   \n",
       "9609795                                 EQUIFAX, INC.    NJ    08759   \n",
       "9609796                                 EQUIFAX, INC.    CA    95616   \n",
       "\n",
       "                                  Tags Consumer consent provided?  \\\n",
       "0                                  NaN                        NaN   \n",
       "1                                  NaN                        NaN   \n",
       "2                                  NaN                        NaN   \n",
       "3                                  NaN                        NaN   \n",
       "4                                  NaN                        NaN   \n",
       "...                                ...                        ...   \n",
       "9609792                            NaN       Consent not provided   \n",
       "9609793                            NaN       Consent not provided   \n",
       "9609794  Older American, Servicemember                        NaN   \n",
       "9609795                            NaN                        NaN   \n",
       "9609796                            NaN                        NaN   \n",
       "\n",
       "        Submitted via Date sent to company Company response to consumer  \\\n",
       "0                 Web           2025-06-20                  In progress   \n",
       "1                 Web           2025-06-20      Closed with explanation   \n",
       "2                 Web           2025-06-20                  In progress   \n",
       "3                 Web           2025-06-20                  In progress   \n",
       "4                 Web           2025-06-20                  In progress   \n",
       "...               ...                  ...                          ...   \n",
       "9609792           Web           2016-09-08      Closed with explanation   \n",
       "9609793           Web           2022-06-06      Closed with explanation   \n",
       "9609794         Phone           2016-07-14      Closed with explanation   \n",
       "9609795           Web           2014-03-04      Closed with explanation   \n",
       "9609796   Postal mail           2014-11-25      Closed with explanation   \n",
       "\n",
       "        Timely response? Consumer disputed?  Complaint ID  \n",
       "0                    Yes                NaN      14195687  \n",
       "1                    Yes                NaN      14195688  \n",
       "2                    Yes                NaN      14195689  \n",
       "3                    Yes                NaN      14195690  \n",
       "4                    Yes                NaN      14195692  \n",
       "...                  ...                ...           ...  \n",
       "9609792              Yes                Yes       2102374  \n",
       "9609793              Yes                NaN       5637858  \n",
       "9609794              Yes                 No       2012835  \n",
       "9609795              Yes                 No        740118  \n",
       "9609796              Yes                 No       1110751  \n",
       "\n",
       "[9609797 rows x 18 columns]"
      ]
     },
     "execution_count": 11,
     "metadata": {},
     "output_type": "execute_result"
    }
   ],
   "source": [
    "df"
   ]
  },
  {
   "cell_type": "code",
   "execution_count": 12,
   "metadata": {},
   "outputs": [
    {
     "name": "stdout",
     "output_type": "stream",
     "text": [
      "=== DATASET OVERVIEW ===\n",
      "<class 'pandas.core.frame.DataFrame'>\n",
      "RangeIndex: 9609797 entries, 0 to 9609796\n",
      "Data columns (total 18 columns):\n",
      " #   Column                        Dtype \n",
      "---  ------                        ----- \n",
      " 0   Date received                 object\n",
      " 1   Product                       object\n",
      " 2   Sub-product                   object\n",
      " 3   Issue                         object\n",
      " 4   Sub-issue                     object\n",
      " 5   Consumer complaint narrative  object\n",
      " 6   Company public response       object\n",
      " 7   Company                       object\n",
      " 8   State                         object\n",
      " 9   ZIP code                      object\n",
      " 10  Tags                          object\n",
      " 11  Consumer consent provided?    object\n",
      " 12  Submitted via                 object\n",
      " 13  Date sent to company          object\n",
      " 14  Company response to consumer  object\n",
      " 15  Timely response?              object\n",
      " 16  Consumer disputed?            object\n",
      " 17  Complaint ID                  int64 \n",
      "dtypes: int64(1), object(17)\n",
      "memory usage: 1.3+ GB\n",
      "None\n",
      "\n",
      "=== MISSING VALUES ===\n"
     ]
    },
    {
     "data": {
      "text/html": [
       "<div>\n",
       "<style scoped>\n",
       "    .dataframe tbody tr th:only-of-type {\n",
       "        vertical-align: middle;\n",
       "    }\n",
       "\n",
       "    .dataframe tbody tr th {\n",
       "        vertical-align: top;\n",
       "    }\n",
       "\n",
       "    .dataframe thead th {\n",
       "        text-align: right;\n",
       "    }\n",
       "</style>\n",
       "<table border=\"1\" class=\"dataframe\">\n",
       "  <thead>\n",
       "    <tr style=\"text-align: right;\">\n",
       "      <th></th>\n",
       "      <th>missing</th>\n",
       "      <th>total</th>\n",
       "      <th>percent</th>\n",
       "    </tr>\n",
       "  </thead>\n",
       "  <tbody>\n",
       "    <tr>\n",
       "      <th>Tags</th>\n",
       "      <td>8981029</td>\n",
       "      <td>9609797</td>\n",
       "      <td>93</td>\n",
       "    </tr>\n",
       "    <tr>\n",
       "      <th>Consumer disputed?</th>\n",
       "      <td>8841498</td>\n",
       "      <td>9609797</td>\n",
       "      <td>92</td>\n",
       "    </tr>\n",
       "    <tr>\n",
       "      <th>Consumer complaint narrative</th>\n",
       "      <td>6629041</td>\n",
       "      <td>9609797</td>\n",
       "      <td>69</td>\n",
       "    </tr>\n",
       "    <tr>\n",
       "      <th>Company public response</th>\n",
       "      <td>4770207</td>\n",
       "      <td>9609797</td>\n",
       "      <td>50</td>\n",
       "    </tr>\n",
       "    <tr>\n",
       "      <th>Consumer consent provided?</th>\n",
       "      <td>1649561</td>\n",
       "      <td>9609797</td>\n",
       "      <td>17</td>\n",
       "    </tr>\n",
       "    <tr>\n",
       "      <th>Sub-issue</th>\n",
       "      <td>839522</td>\n",
       "      <td>9609797</td>\n",
       "      <td>9</td>\n",
       "    </tr>\n",
       "    <tr>\n",
       "      <th>Sub-product</th>\n",
       "      <td>235295</td>\n",
       "      <td>9609797</td>\n",
       "      <td>2</td>\n",
       "    </tr>\n",
       "    <tr>\n",
       "      <th>State</th>\n",
       "      <td>54516</td>\n",
       "      <td>9609797</td>\n",
       "      <td>1</td>\n",
       "    </tr>\n",
       "    <tr>\n",
       "      <th>ZIP code</th>\n",
       "      <td>30228</td>\n",
       "      <td>9609797</td>\n",
       "      <td>0</td>\n",
       "    </tr>\n",
       "    <tr>\n",
       "      <th>Company response to consumer</th>\n",
       "      <td>20</td>\n",
       "      <td>9609797</td>\n",
       "      <td>0</td>\n",
       "    </tr>\n",
       "    <tr>\n",
       "      <th>Issue</th>\n",
       "      <td>6</td>\n",
       "      <td>9609797</td>\n",
       "      <td>0</td>\n",
       "    </tr>\n",
       "    <tr>\n",
       "      <th>Date received</th>\n",
       "      <td>0</td>\n",
       "      <td>9609797</td>\n",
       "      <td>0</td>\n",
       "    </tr>\n",
       "    <tr>\n",
       "      <th>Product</th>\n",
       "      <td>0</td>\n",
       "      <td>9609797</td>\n",
       "      <td>0</td>\n",
       "    </tr>\n",
       "    <tr>\n",
       "      <th>Company</th>\n",
       "      <td>0</td>\n",
       "      <td>9609797</td>\n",
       "      <td>0</td>\n",
       "    </tr>\n",
       "    <tr>\n",
       "      <th>Date sent to company</th>\n",
       "      <td>0</td>\n",
       "      <td>9609797</td>\n",
       "      <td>0</td>\n",
       "    </tr>\n",
       "    <tr>\n",
       "      <th>Submitted via</th>\n",
       "      <td>0</td>\n",
       "      <td>9609797</td>\n",
       "      <td>0</td>\n",
       "    </tr>\n",
       "    <tr>\n",
       "      <th>Timely response?</th>\n",
       "      <td>0</td>\n",
       "      <td>9609797</td>\n",
       "      <td>0</td>\n",
       "    </tr>\n",
       "    <tr>\n",
       "      <th>Complaint ID</th>\n",
       "      <td>0</td>\n",
       "      <td>9609797</td>\n",
       "      <td>0</td>\n",
       "    </tr>\n",
       "  </tbody>\n",
       "</table>\n",
       "</div>"
      ],
      "text/plain": [
       "                              missing    total  percent\n",
       "Tags                          8981029  9609797       93\n",
       "Consumer disputed?            8841498  9609797       92\n",
       "Consumer complaint narrative  6629041  9609797       69\n",
       "Company public response       4770207  9609797       50\n",
       "Consumer consent provided?    1649561  9609797       17\n",
       "Sub-issue                      839522  9609797        9\n",
       "Sub-product                    235295  9609797        2\n",
       "State                           54516  9609797        1\n",
       "ZIP code                        30228  9609797        0\n",
       "Company response to consumer       20  9609797        0\n",
       "Issue                               6  9609797        0\n",
       "Date received                       0  9609797        0\n",
       "Product                             0  9609797        0\n",
       "Company                             0  9609797        0\n",
       "Date sent to company                0  9609797        0\n",
       "Submitted via                       0  9609797        0\n",
       "Timely response?                    0  9609797        0\n",
       "Complaint ID                        0  9609797        0"
      ]
     },
     "execution_count": 12,
     "metadata": {},
     "output_type": "execute_result"
    }
   ],
   "source": [
    "# Basic dataset information\n",
    "print(\"=== DATASET OVERVIEW ===\")\n",
    "print(df.info())\n",
    "\n",
    "# Identifying missing values\n",
    "print(\"\\n=== MISSING VALUES ===\")\n",
    "df.stb.missing()"
   ]
  },
  {
   "cell_type": "code",
   "execution_count": 13,
   "metadata": {},
   "outputs": [
    {
     "name": "stdout",
     "output_type": "stream",
     "text": [
      "=== PRODUCT DISTRIBUTION ===\n",
      "Product\n",
      "Credit reporting or other personal consumer reports                             4834855\n",
      "Credit reporting, credit repair services, or other personal consumer reports    2163857\n",
      "Debt collection                                                                  799197\n",
      "Mortgage                                                                         422254\n",
      "Checking or savings account                                                      291178\n",
      "Credit card                                                                      226686\n",
      "Credit card or prepaid card                                                      206369\n",
      "Money transfer, virtual currency, or money service                               145066\n",
      "Credit reporting                                                                 140429\n",
      "Student loan                                                                     109717\n",
      "Name: count, dtype: int64\n",
      "\n",
      "=== TARGET PRODUCTS AVAILABILITY ===\n",
      "Credit card: 433055 complaints\n",
      "Personal loan: 47155 complaints\n",
      "Buy Now, Pay Later (BNPL): 0 complaints\n",
      "Savings account: 291178 complaints\n",
      "Money transfers: 5354 complaints\n"
     ]
    }
   ],
   "source": [
    "# Target products for CrediTrust\n",
    "target_products = [\n",
    "    \"Credit card\",\n",
    "    \"Personal loan\", \n",
    "    \"Buy Now, Pay Later (BNPL)\",\n",
    "    \"Savings account\",\n",
    "    \"Money transfers\"\n",
    "]\n",
    "\n",
    "# Analyze product distribution\n",
    "print(\"=== PRODUCT DISTRIBUTION ===\")\n",
    "product_counts = df['Product'].value_counts()\n",
    "print(product_counts.head(10))\n",
    "\n",
    "# Check which target products exist in data\n",
    "print(\"\\n=== TARGET PRODUCTS AVAILABILITY ===\")\n",
    "available_products = []\n",
    "for product in target_products:\n",
    "    count = df[df['Product'].str.contains(product, case=False, na=False)]['Product'].value_counts()\n",
    "    if len(count) > 0:\n",
    "        print(f\"{product}: {count.sum()} complaints\")\n",
    "        available_products.extend(count.index.tolist())\n",
    "    else:\n",
    "        print(f\"{product}: 0 complaints\")"
   ]
  },
  {
   "cell_type": "code",
   "execution_count": 21,
   "metadata": {},
   "outputs": [
    {
     "data": {
      "application/vnd.plotly.v1+json": {
       "config": {
        "plotlyServerURL": "https://plot.ly"
       },
       "data": [
        {
         "name": "All Products",
         "orientation": "h",
         "type": "bar",
         "x": {
          "bdata": "J8ZJAJEEIQDdMQwAbnEGAGpxBAB+dQMAISYDAKo2AgCNJAIAlawBAL1QAQD9HAEAVnsAALF3AACCQAAA",
          "dtype": "i4"
         },
         "xaxis": "x",
         "y": [
          "Credit reporting or other personal consumer reports",
          "Credit reporting, credit repair services, or other personal consumer reports",
          "Debt collection",
          "Mortgage",
          "Checking or savings account",
          "Credit card",
          "Credit card or prepaid card",
          "Money transfer, virtual currency, or money service",
          "Credit reporting",
          "Student loan",
          "Bank account or service",
          "Vehicle loan or lease",
          "Consumer Loan",
          "Payday loan, title loan, or personal loan",
          "Payday loan, title loan, personal loan, or advance loan"
         ],
         "yaxis": "y"
        },
        {
         "domain": {
          "x": [
           0.55,
           1
          ],
          "y": [
           0.625,
           1
          ]
         },
         "labels": [
          "Checking or savings account",
          "Credit card",
          "Credit card or prepaid card",
          "Payday loan, title loan, or personal loan",
          "Payday loan, title loan, personal loan, or advance loan",
          "Money transfers"
         ],
         "name": "Target Products",
         "type": "pie",
         "values": {
          "bdata": "anEEAH51AwAhJgMAsXcAAIJAAADqFAAA",
          "dtype": "i4"
         }
        }
       ],
       "layout": {
        "annotations": [
         {
          "font": {
           "size": 16
          },
          "showarrow": false,
          "text": "Top 15 Products",
          "x": 0.225,
          "xanchor": "center",
          "xref": "paper",
          "y": 1,
          "yanchor": "bottom",
          "yref": "paper"
         },
         {
          "font": {
           "size": 16
          },
          "showarrow": false,
          "text": "Target Products Only",
          "x": 0.775,
          "xanchor": "center",
          "xref": "paper",
          "y": 1,
          "yanchor": "bottom",
          "yref": "paper"
         },
         {
          "font": {
           "size": 16
          },
          "showarrow": false,
          "text": "Complaints Over Time",
          "x": 0.225,
          "xanchor": "center",
          "xref": "paper",
          "y": 0.375,
          "yanchor": "bottom",
          "yref": "paper"
         },
         {
          "font": {
           "size": 16
          },
          "showarrow": false,
          "text": "Narrative Length Distribution",
          "x": 0.775,
          "xanchor": "center",
          "xref": "paper",
          "y": 0.375,
          "yanchor": "bottom",
          "yref": "paper"
         }
        ],
        "height": 800,
        "showlegend": false,
        "template": {
         "data": {
          "bar": [
           {
            "error_x": {
             "color": "#2a3f5f"
            },
            "error_y": {
             "color": "#2a3f5f"
            },
            "marker": {
             "line": {
              "color": "#E5ECF6",
              "width": 0.5
             },
             "pattern": {
              "fillmode": "overlay",
              "size": 10,
              "solidity": 0.2
             }
            },
            "type": "bar"
           }
          ],
          "barpolar": [
           {
            "marker": {
             "line": {
              "color": "#E5ECF6",
              "width": 0.5
             },
             "pattern": {
              "fillmode": "overlay",
              "size": 10,
              "solidity": 0.2
             }
            },
            "type": "barpolar"
           }
          ],
          "carpet": [
           {
            "aaxis": {
             "endlinecolor": "#2a3f5f",
             "gridcolor": "white",
             "linecolor": "white",
             "minorgridcolor": "white",
             "startlinecolor": "#2a3f5f"
            },
            "baxis": {
             "endlinecolor": "#2a3f5f",
             "gridcolor": "white",
             "linecolor": "white",
             "minorgridcolor": "white",
             "startlinecolor": "#2a3f5f"
            },
            "type": "carpet"
           }
          ],
          "choropleth": [
           {
            "colorbar": {
             "outlinewidth": 0,
             "ticks": ""
            },
            "type": "choropleth"
           }
          ],
          "contour": [
           {
            "colorbar": {
             "outlinewidth": 0,
             "ticks": ""
            },
            "colorscale": [
             [
              0,
              "#0d0887"
             ],
             [
              0.1111111111111111,
              "#46039f"
             ],
             [
              0.2222222222222222,
              "#7201a8"
             ],
             [
              0.3333333333333333,
              "#9c179e"
             ],
             [
              0.4444444444444444,
              "#bd3786"
             ],
             [
              0.5555555555555556,
              "#d8576b"
             ],
             [
              0.6666666666666666,
              "#ed7953"
             ],
             [
              0.7777777777777778,
              "#fb9f3a"
             ],
             [
              0.8888888888888888,
              "#fdca26"
             ],
             [
              1,
              "#f0f921"
             ]
            ],
            "type": "contour"
           }
          ],
          "contourcarpet": [
           {
            "colorbar": {
             "outlinewidth": 0,
             "ticks": ""
            },
            "type": "contourcarpet"
           }
          ],
          "heatmap": [
           {
            "colorbar": {
             "outlinewidth": 0,
             "ticks": ""
            },
            "colorscale": [
             [
              0,
              "#0d0887"
             ],
             [
              0.1111111111111111,
              "#46039f"
             ],
             [
              0.2222222222222222,
              "#7201a8"
             ],
             [
              0.3333333333333333,
              "#9c179e"
             ],
             [
              0.4444444444444444,
              "#bd3786"
             ],
             [
              0.5555555555555556,
              "#d8576b"
             ],
             [
              0.6666666666666666,
              "#ed7953"
             ],
             [
              0.7777777777777778,
              "#fb9f3a"
             ],
             [
              0.8888888888888888,
              "#fdca26"
             ],
             [
              1,
              "#f0f921"
             ]
            ],
            "type": "heatmap"
           }
          ],
          "histogram": [
           {
            "marker": {
             "pattern": {
              "fillmode": "overlay",
              "size": 10,
              "solidity": 0.2
             }
            },
            "type": "histogram"
           }
          ],
          "histogram2d": [
           {
            "colorbar": {
             "outlinewidth": 0,
             "ticks": ""
            },
            "colorscale": [
             [
              0,
              "#0d0887"
             ],
             [
              0.1111111111111111,
              "#46039f"
             ],
             [
              0.2222222222222222,
              "#7201a8"
             ],
             [
              0.3333333333333333,
              "#9c179e"
             ],
             [
              0.4444444444444444,
              "#bd3786"
             ],
             [
              0.5555555555555556,
              "#d8576b"
             ],
             [
              0.6666666666666666,
              "#ed7953"
             ],
             [
              0.7777777777777778,
              "#fb9f3a"
             ],
             [
              0.8888888888888888,
              "#fdca26"
             ],
             [
              1,
              "#f0f921"
             ]
            ],
            "type": "histogram2d"
           }
          ],
          "histogram2dcontour": [
           {
            "colorbar": {
             "outlinewidth": 0,
             "ticks": ""
            },
            "colorscale": [
             [
              0,
              "#0d0887"
             ],
             [
              0.1111111111111111,
              "#46039f"
             ],
             [
              0.2222222222222222,
              "#7201a8"
             ],
             [
              0.3333333333333333,
              "#9c179e"
             ],
             [
              0.4444444444444444,
              "#bd3786"
             ],
             [
              0.5555555555555556,
              "#d8576b"
             ],
             [
              0.6666666666666666,
              "#ed7953"
             ],
             [
              0.7777777777777778,
              "#fb9f3a"
             ],
             [
              0.8888888888888888,
              "#fdca26"
             ],
             [
              1,
              "#f0f921"
             ]
            ],
            "type": "histogram2dcontour"
           }
          ],
          "mesh3d": [
           {
            "colorbar": {
             "outlinewidth": 0,
             "ticks": ""
            },
            "type": "mesh3d"
           }
          ],
          "parcoords": [
           {
            "line": {
             "colorbar": {
              "outlinewidth": 0,
              "ticks": ""
             }
            },
            "type": "parcoords"
           }
          ],
          "pie": [
           {
            "automargin": true,
            "type": "pie"
           }
          ],
          "scatter": [
           {
            "fillpattern": {
             "fillmode": "overlay",
             "size": 10,
             "solidity": 0.2
            },
            "type": "scatter"
           }
          ],
          "scatter3d": [
           {
            "line": {
             "colorbar": {
              "outlinewidth": 0,
              "ticks": ""
             }
            },
            "marker": {
             "colorbar": {
              "outlinewidth": 0,
              "ticks": ""
             }
            },
            "type": "scatter3d"
           }
          ],
          "scattercarpet": [
           {
            "marker": {
             "colorbar": {
              "outlinewidth": 0,
              "ticks": ""
             }
            },
            "type": "scattercarpet"
           }
          ],
          "scattergeo": [
           {
            "marker": {
             "colorbar": {
              "outlinewidth": 0,
              "ticks": ""
             }
            },
            "type": "scattergeo"
           }
          ],
          "scattergl": [
           {
            "marker": {
             "colorbar": {
              "outlinewidth": 0,
              "ticks": ""
             }
            },
            "type": "scattergl"
           }
          ],
          "scattermap": [
           {
            "marker": {
             "colorbar": {
              "outlinewidth": 0,
              "ticks": ""
             }
            },
            "type": "scattermap"
           }
          ],
          "scattermapbox": [
           {
            "marker": {
             "colorbar": {
              "outlinewidth": 0,
              "ticks": ""
             }
            },
            "type": "scattermapbox"
           }
          ],
          "scatterpolar": [
           {
            "marker": {
             "colorbar": {
              "outlinewidth": 0,
              "ticks": ""
             }
            },
            "type": "scatterpolar"
           }
          ],
          "scatterpolargl": [
           {
            "marker": {
             "colorbar": {
              "outlinewidth": 0,
              "ticks": ""
             }
            },
            "type": "scatterpolargl"
           }
          ],
          "scatterternary": [
           {
            "marker": {
             "colorbar": {
              "outlinewidth": 0,
              "ticks": ""
             }
            },
            "type": "scatterternary"
           }
          ],
          "surface": [
           {
            "colorbar": {
             "outlinewidth": 0,
             "ticks": ""
            },
            "colorscale": [
             [
              0,
              "#0d0887"
             ],
             [
              0.1111111111111111,
              "#46039f"
             ],
             [
              0.2222222222222222,
              "#7201a8"
             ],
             [
              0.3333333333333333,
              "#9c179e"
             ],
             [
              0.4444444444444444,
              "#bd3786"
             ],
             [
              0.5555555555555556,
              "#d8576b"
             ],
             [
              0.6666666666666666,
              "#ed7953"
             ],
             [
              0.7777777777777778,
              "#fb9f3a"
             ],
             [
              0.8888888888888888,
              "#fdca26"
             ],
             [
              1,
              "#f0f921"
             ]
            ],
            "type": "surface"
           }
          ],
          "table": [
           {
            "cells": {
             "fill": {
              "color": "#EBF0F8"
             },
             "line": {
              "color": "white"
             }
            },
            "header": {
             "fill": {
              "color": "#C8D4E3"
             },
             "line": {
              "color": "white"
             }
            },
            "type": "table"
           }
          ]
         },
         "layout": {
          "annotationdefaults": {
           "arrowcolor": "#2a3f5f",
           "arrowhead": 0,
           "arrowwidth": 1
          },
          "autotypenumbers": "strict",
          "coloraxis": {
           "colorbar": {
            "outlinewidth": 0,
            "ticks": ""
           }
          },
          "colorscale": {
           "diverging": [
            [
             0,
             "#8e0152"
            ],
            [
             0.1,
             "#c51b7d"
            ],
            [
             0.2,
             "#de77ae"
            ],
            [
             0.3,
             "#f1b6da"
            ],
            [
             0.4,
             "#fde0ef"
            ],
            [
             0.5,
             "#f7f7f7"
            ],
            [
             0.6,
             "#e6f5d0"
            ],
            [
             0.7,
             "#b8e186"
            ],
            [
             0.8,
             "#7fbc41"
            ],
            [
             0.9,
             "#4d9221"
            ],
            [
             1,
             "#276419"
            ]
           ],
           "sequential": [
            [
             0,
             "#0d0887"
            ],
            [
             0.1111111111111111,
             "#46039f"
            ],
            [
             0.2222222222222222,
             "#7201a8"
            ],
            [
             0.3333333333333333,
             "#9c179e"
            ],
            [
             0.4444444444444444,
             "#bd3786"
            ],
            [
             0.5555555555555556,
             "#d8576b"
            ],
            [
             0.6666666666666666,
             "#ed7953"
            ],
            [
             0.7777777777777778,
             "#fb9f3a"
            ],
            [
             0.8888888888888888,
             "#fdca26"
            ],
            [
             1,
             "#f0f921"
            ]
           ],
           "sequentialminus": [
            [
             0,
             "#0d0887"
            ],
            [
             0.1111111111111111,
             "#46039f"
            ],
            [
             0.2222222222222222,
             "#7201a8"
            ],
            [
             0.3333333333333333,
             "#9c179e"
            ],
            [
             0.4444444444444444,
             "#bd3786"
            ],
            [
             0.5555555555555556,
             "#d8576b"
            ],
            [
             0.6666666666666666,
             "#ed7953"
            ],
            [
             0.7777777777777778,
             "#fb9f3a"
            ],
            [
             0.8888888888888888,
             "#fdca26"
            ],
            [
             1,
             "#f0f921"
            ]
           ]
          },
          "colorway": [
           "#636efa",
           "#EF553B",
           "#00cc96",
           "#ab63fa",
           "#FFA15A",
           "#19d3f3",
           "#FF6692",
           "#B6E880",
           "#FF97FF",
           "#FECB52"
          ],
          "font": {
           "color": "#2a3f5f"
          },
          "geo": {
           "bgcolor": "white",
           "lakecolor": "white",
           "landcolor": "#E5ECF6",
           "showlakes": true,
           "showland": true,
           "subunitcolor": "white"
          },
          "hoverlabel": {
           "align": "left"
          },
          "hovermode": "closest",
          "mapbox": {
           "style": "light"
          },
          "paper_bgcolor": "white",
          "plot_bgcolor": "#E5ECF6",
          "polar": {
           "angularaxis": {
            "gridcolor": "white",
            "linecolor": "white",
            "ticks": ""
           },
           "bgcolor": "#E5ECF6",
           "radialaxis": {
            "gridcolor": "white",
            "linecolor": "white",
            "ticks": ""
           }
          },
          "scene": {
           "xaxis": {
            "backgroundcolor": "#E5ECF6",
            "gridcolor": "white",
            "gridwidth": 2,
            "linecolor": "white",
            "showbackground": true,
            "ticks": "",
            "zerolinecolor": "white"
           },
           "yaxis": {
            "backgroundcolor": "#E5ECF6",
            "gridcolor": "white",
            "gridwidth": 2,
            "linecolor": "white",
            "showbackground": true,
            "ticks": "",
            "zerolinecolor": "white"
           },
           "zaxis": {
            "backgroundcolor": "#E5ECF6",
            "gridcolor": "white",
            "gridwidth": 2,
            "linecolor": "white",
            "showbackground": true,
            "ticks": "",
            "zerolinecolor": "white"
           }
          },
          "shapedefaults": {
           "line": {
            "color": "#2a3f5f"
           }
          },
          "ternary": {
           "aaxis": {
            "gridcolor": "white",
            "linecolor": "white",
            "ticks": ""
           },
           "baxis": {
            "gridcolor": "white",
            "linecolor": "white",
            "ticks": ""
           },
           "bgcolor": "#E5ECF6",
           "caxis": {
            "gridcolor": "white",
            "linecolor": "white",
            "ticks": ""
           }
          },
          "title": {
           "x": 0.05
          },
          "xaxis": {
           "automargin": true,
           "gridcolor": "white",
           "linecolor": "white",
           "ticks": "",
           "title": {
            "standoff": 15
           },
           "zerolinecolor": "white",
           "zerolinewidth": 2
          },
          "yaxis": {
           "automargin": true,
           "gridcolor": "white",
           "linecolor": "white",
           "ticks": "",
           "title": {
            "standoff": 15
           },
           "zerolinecolor": "white",
           "zerolinewidth": 2
          }
         }
        },
        "title": {
         "text": "Complaint Analysis Overview"
        },
        "xaxis": {
         "anchor": "y",
         "domain": [
          0,
          0.45
         ]
        },
        "xaxis2": {
         "anchor": "y2",
         "domain": [
          0,
          0.45
         ]
        },
        "xaxis3": {
         "anchor": "y3",
         "domain": [
          0.55,
          1
         ]
        },
        "yaxis": {
         "anchor": "x",
         "domain": [
          0.625,
          1
         ]
        },
        "yaxis2": {
         "anchor": "x2",
         "domain": [
          0,
          0.375
         ]
        },
        "yaxis3": {
         "anchor": "x3",
         "domain": [
          0,
          0.375
         ]
        }
       }
      }
     },
     "metadata": {},
     "output_type": "display_data"
    }
   ],
   "source": [
    "# Visualize product distribution\n",
    "fig = make_subplots(\n",
    "    rows=2, cols=2,\n",
    "    subplot_titles=('Top 15 Products', 'Target Products Only', 'Complaints Over Time', 'Narrative Length Distribution'),\n",
    "    specs=[[{\"type\": \"bar\"}, {\"type\": \"pie\"}],\n",
    "           [{\"type\": \"scatter\"}, {\"type\": \"histogram\"}]]\n",
    ")\n",
    "\n",
    "# Top products bar chart\n",
    "top_products = product_counts.head(15)\n",
    "fig.add_trace(\n",
    "    go.Bar(x=top_products.values, y=top_products.index, orientation='h', name='All Products'),\n",
    "    row=1, col=1\n",
    ")\n",
    "\n",
    "# Target products pie chart\n",
    "target_df = df[df['Product'].isin(available_products)]\n",
    "target_counts = target_df['Product'].value_counts()\n",
    "fig.add_trace(\n",
    "    go.Pie(labels=target_counts.index, values=target_counts.values, name='Target Products'),\n",
    "    row=1, col=2\n",
    ")\n",
    "\n",
    "fig.update_layout(height=800, showlegend=False, title_text=\"Complaint Analysis Overview\")\n",
    "fig.show()"
   ]
  },
  {
   "cell_type": "code",
   "execution_count": 25,
   "metadata": {},
   "outputs": [
    {
     "name": "stdout",
     "output_type": "stream",
     "text": [
      "=== COMPLAINT NARRATIVE ANALYSIS ===\n",
      "Using column: Consumer complaint narrative\n",
      "Total complaints: 9,609,797\n",
      "With narratives: 2,980,756 (31.0%)\n",
      "Without narratives: 6,629,041 (69.0%)\n",
      "\n",
      "=== NARRATIVE LENGTH STATISTICS ===\n",
      "count   9609797\n",
      "mean        310\n",
      "std         859\n",
      "min           0\n",
      "25%           0\n",
      "50%           0\n",
      "75%         282\n",
      "max       35722\n",
      "Name: narrative_length, dtype: float64\n",
      "\n",
      "=== WORD COUNT STATISTICS ===\n",
      "count   9609797\n",
      "mean         54\n",
      "std         150\n",
      "min           0\n",
      "25%           0\n",
      "50%           0\n",
      "75%          50\n",
      "max        6469\n",
      "Name: word_count, dtype: float64\n"
     ]
    }
   ],
   "source": [
    "# Analyze complaint narratives\n",
    "print(\"=== COMPLAINT NARRATIVE ANALYSIS ===\")\n",
    "\n",
    "# Check for narratives\n",
    "narrative_col = 'Consumer complaint narrative' if 'Consumer complaint narrative' in df.columns else 'Complaint'\n",
    "print(f\"Using column: {narrative_col}\")\n",
    "\n",
    "# Count narratives\n",
    "total_complaints = len(df)\n",
    "with_narratives = df[narrative_col].notna().sum()\n",
    "without_narratives = total_complaints - with_narratives\n",
    "\n",
    "print(f\"Total complaints: {total_complaints:,}\")\n",
    "print(f\"With narratives: {with_narratives:,} ({with_narratives/total_complaints*100:.1f}%)\")\n",
    "print(f\"Without narratives: {without_narratives:,} ({without_narratives/total_complaints*100:.1f}%)\")\n",
    "\n",
    "# Analyze narrative lengths\n",
    "df['narrative_length'] = df[narrative_col].fillna('').astype(str).apply(len)\n",
    "df['word_count'] = df[narrative_col].fillna('').astype(str).apply(lambda x: len(x.split()))\n",
    "\n",
    "print(f\"\\n=== NARRATIVE LENGTH STATISTICS ===\")\n",
    "print(df['narrative_length'].describe())\n",
    "print(f\"\\n=== WORD COUNT STATISTICS ===\")\n",
    "print(df['word_count'].describe())"
   ]
  },
  {
   "cell_type": "code",
   "execution_count": 26,
   "metadata": {},
   "outputs": [
    {
     "name": "stdout",
     "output_type": "stream",
     "text": [
      "Cleaning narratives...\n",
      "\n",
      "=== CLEANED NARRATIVE STATISTICS ===\n",
      "count   9609797\n",
      "mean         54\n",
      "std         147\n",
      "min           0\n",
      "25%           0\n",
      "50%           0\n",
      "75%          50\n",
      "max        6581\n",
      "Name: cleaned_word_count, dtype: float64\n"
     ]
    }
   ],
   "source": [
    "# Text preprocessing function\n",
    "def clean_narrative(text):\n",
    "    \"\"\"Clean complaint narrative text.\"\"\"\n",
    "    if pd.isna(text) or text == '':\n",
    "        return ''\n",
    "    \n",
    "    text = str(text).lower()\n",
    "    \n",
    "    # Remove common boilerplate\n",
    "    boilerplate_patterns = [\n",
    "        r'i am writing to file a complaint',\n",
    "        r'this is to inform you',\n",
    "        r'dear sir/madam',\n",
    "        r'to whom it may concern'\n",
    "    ]\n",
    "    \n",
    "    for pattern in boilerplate_patterns:\n",
    "        text = re.sub(pattern, '', text, flags=re.IGNORECASE)\n",
    "    \n",
    "    # Clean special characters but keep basic punctuation\n",
    "    text = re.sub(r'[^a-zA-Z0-9\\s.,!?-]', ' ', text)\n",
    "    \n",
    "    # Remove extra whitespace\n",
    "    text = re.sub(r'\\s+', ' ', text).strip()\n",
    "    \n",
    "    return text\n",
    "\n",
    "# Apply preprocessing\n",
    "print(\"Cleaning narratives...\")\n",
    "df['cleaned_narrative'] = df[narrative_col].apply(clean_narrative)\n",
    "df['cleaned_word_count'] = df['cleaned_narrative'].apply(lambda x: len(x.split()) if x else 0)\n",
    "\n",
    "print(\"\\n=== CLEANED NARRATIVE STATISTICS ===\")\n",
    "print(df['cleaned_word_count'].describe())"
   ]
  },
  {
   "cell_type": "code",
   "execution_count": 27,
   "metadata": {},
   "outputs": [
    {
     "name": "stdout",
     "output_type": "stream",
     "text": [
      "=== FILTERING DATASET ===\n",
      "After product filtering: 776742 records\n",
      "After removing empty narratives: 357281 records\n",
      "\n",
      "=== FINAL DATASET STATISTICS ===\n",
      "Total records: 357281\n",
      "Products: 6\n",
      "Average narrative length: 216.7 words\n",
      "Date range: 2015-03-19 to 2025-06-15\n",
      "\n",
      "=== PRODUCT DISTRIBUTION IN FINAL DATASET ===\n",
      "Product\n",
      "Checking or savings account                                140316\n",
      "Credit card or prepaid card                                108667\n",
      "Credit card                                                 80667\n",
      "Payday loan, title loan, or personal loan                   17238\n",
      "Payday loan, title loan, personal loan, or advance loan      8896\n",
      "Money transfers                                              1497\n",
      "Name: count, dtype: int64\n"
     ]
    }
   ],
   "source": [
    "# Filter dataset for target products and valid narratives\n",
    "print(\"=== FILTERING DATASET ===\")\n",
    "\n",
    "# Filter for target products\n",
    "filtered_df = df[df['Product'].isin(available_products)].copy()\n",
    "print(f\"After product filtering: {len(filtered_df)} records\")\n",
    "\n",
    "# Remove empty narratives\n",
    "filtered_df = filtered_df[filtered_df['cleaned_narrative'].str.len() > 10].copy()\n",
    "print(f\"After removing empty narratives: {len(filtered_df)} records\")\n",
    "\n",
    "# Final dataset statistics\n",
    "print(f\"\\n=== FINAL DATASET STATISTICS ===\")\n",
    "print(f\"Total records: {len(filtered_df)}\")\n",
    "print(f\"Products: {filtered_df['Product'].nunique()}\")\n",
    "print(f\"Average narrative length: {filtered_df['cleaned_word_count'].mean():.1f} words\")\n",
    "print(f\"Date range: {filtered_df['Date received'].min()} to {filtered_df['Date received'].max()}\")\n",
    "\n",
    "print(f\"\\n=== PRODUCT DISTRIBUTION IN FINAL DATASET ===\")\n",
    "print(filtered_df['Product'].value_counts())"
   ]
  },
  {
   "cell_type": "code",
   "execution_count": 28,
   "metadata": {},
   "outputs": [
    {
     "name": "stdout",
     "output_type": "stream",
     "text": [
      "Filtered dataset saved to: ..\\..\\data\\processed\\filtered_complaints.parquet\n",
      "Final dataset shape: (357281, 9)\n"
     ]
    }
   ],
   "source": [
    "# Save filtered dataset\n",
    "output_path = Path(\"../../data/processed/filtered_complaints.parquet\")\n",
    "output_path.parent.mkdir(parents=True, exist_ok=True)\n",
    "\n",
    "# Select relevant columns\n",
    "final_columns = [\n",
    "    'Date received', 'Product', 'Sub-product', 'Issue', 'Sub-issue',\n",
    "    'Consumer complaint narrative', 'cleaned_narrative', 'Company', 'State'\n",
    "]\n",
    "\n",
    "# Keep only available columns\n",
    "available_columns = [col for col in final_columns if col in filtered_df.columns]\n",
    "final_df = filtered_df[available_columns].copy()\n",
    "\n",
    "final_df.to_parquet(output_path, index=False)\n",
    "print(f\"Filtered dataset saved to: {output_path}\")\n",
    "print(f\"Final dataset shape: {final_df.shape}\")"
   ]
  },
  {
   "cell_type": "markdown",
   "metadata": {},
   "source": [
    "## Key Findings Summary\n",
    "\n",
    "1. **Dataset Overview**: The dataset contains comprehensive complaint information with varying narrative lengths\n",
    "2. **Product Coverage**: Successfully identified target products relevant to CrediTrust's services\n",
    "3. **Data Quality**: Implemented cleaning procedures to remove boilerplate text and standardize narratives\n",
    "4. **Final Dataset**: Created a clean, filtered dataset ready for embedding and RAG pipeline implementation"
   ]
  },
  {
   "cell_type": "code",
   "execution_count": null,
   "metadata": {},
   "outputs": [],
   "source": []
  }
 ],
 "metadata": {
  "kernelspec": {
   "display_name": "python312",
   "language": "python",
   "name": "python3"
  },
  "language_info": {
   "codemirror_mode": {
    "name": "ipython",
    "version": 3
   },
   "file_extension": ".py",
   "mimetype": "text/x-python",
   "name": "python",
   "nbconvert_exporter": "python",
   "pygments_lexer": "ipython3",
   "version": "3.12.11"
  }
 },
 "nbformat": 4,
 "nbformat_minor": 4
}
